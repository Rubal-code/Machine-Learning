{
 "cells": [
  {
   "cell_type": "code",
   "execution_count": 72,
   "id": "71d72eae",
   "metadata": {},
   "outputs": [],
   "source": [
    "import pandas as pd\n",
    "import numpy as np\n",
    "from sklearn.datasets import load_diabetes\n",
    "from sklearn.linear_model import Lasso,Ridge,ElasticNet\n",
    "from sklearn.metrics import r2_score"
   ]
  },
  {
   "cell_type": "code",
   "execution_count": 73,
   "id": "cd67a7fc",
   "metadata": {},
   "outputs": [],
   "source": [
    "X,y=load_diabetes(return_X_y=True)"
   ]
  },
  {
   "cell_type": "code",
   "execution_count": 74,
   "id": "d3e3ed08",
   "metadata": {},
   "outputs": [],
   "source": [
    "from sklearn.model_selection import train_test_split\n",
    "x_train,x_test,y_train,y_test=train_test_split(X,y,test_size=0.2,random_state=13)"
   ]
  },
  {
   "cell_type": "code",
   "execution_count": null,
   "id": "601b66a9",
   "metadata": {},
   "outputs": [],
   "source": []
  },
  {
   "cell_type": "code",
   "execution_count": 75,
   "id": "81f2f1ae",
   "metadata": {},
   "outputs": [
    {
     "name": "stdout",
     "output_type": "stream",
     "text": [
      "for lasso  0.36617816801585523\n"
     ]
    }
   ],
   "source": [
    "L=Lasso(alpha=0.001)\n",
    "L.fit(x_train,y_train)\n",
    "y_pred_1=L.predict(x_test)\n",
    "print(\"for lasso \",r2_score(y_test,y_pred_1))"
   ]
  },
  {
   "cell_type": "code",
   "execution_count": 76,
   "id": "3768834b",
   "metadata": {},
   "outputs": [
    {
     "name": "stdout",
     "output_type": "stream",
     "text": [
      "for Ridge  0.36617816801585523\n"
     ]
    }
   ],
   "source": [
    "R=Ridge(alpha=0.01)\n",
    "R.fit(x_train,y_train)\n",
    "y_pred_2=L.predict(x_test)\n",
    "print(\"for Ridge \",r2_score(y_test,y_pred_2))"
   ]
  },
  {
   "cell_type": "code",
   "execution_count": 77,
   "id": "fab6dc77",
   "metadata": {},
   "outputs": [
    {
     "data": {
      "text/plain": [
       "0.38022728074709256"
      ]
     },
     "execution_count": 77,
     "metadata": {},
     "output_type": "execute_result"
    }
   ],
   "source": [
    "e_n=ElasticNet(alpha=0.001,l1_ratio=0.7)\n",
    "e_n.fit(x_train,y_train)\n",
    "y_pred_3=e_n.predict(x_test)\n",
    "r2_score(y_test,y_pred_3)"
   ]
  },
  {
   "cell_type": "code",
   "execution_count": null,
   "id": "0067c82e",
   "metadata": {},
   "outputs": [],
   "source": []
  }
 ],
 "metadata": {
  "kernelspec": {
   "display_name": "base",
   "language": "python",
   "name": "python3"
  },
  "language_info": {
   "codemirror_mode": {
    "name": "ipython",
    "version": 3
   },
   "file_extension": ".py",
   "mimetype": "text/x-python",
   "name": "python",
   "nbconvert_exporter": "python",
   "pygments_lexer": "ipython3",
   "version": "3.13.5"
  }
 },
 "nbformat": 4,
 "nbformat_minor": 5
}
