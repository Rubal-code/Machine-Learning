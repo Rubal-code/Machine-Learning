{
 "cells": [
  {
   "cell_type": "code",
   "execution_count": 7,
   "id": "7c2a92bd",
   "metadata": {},
   "outputs": [],
   "source": [
    "import pandas as pd\n",
    "import numpy as np\n",
    "from sklearn.datasets import load_diabetes\n",
    "from sklearn.metrics import r2_score"
   ]
  },
  {
   "cell_type": "code",
   "execution_count": 8,
   "id": "87d74df9",
   "metadata": {},
   "outputs": [],
   "source": [
    "X,y=load_diabetes(return_X_y=True)"
   ]
  },
  {
   "cell_type": "code",
   "execution_count": 9,
   "id": "632a02ab",
   "metadata": {},
   "outputs": [],
   "source": [
    "from sklearn.model_selection import train_test_split\n",
    "x_train,x_test,y_train,y_test=train_test_split(X,y,test_size=0.2,random_state=42)"
   ]
  },
  {
   "cell_type": "code",
   "execution_count": 10,
   "id": "000054a6",
   "metadata": {},
   "outputs": [
    {
     "data": {
      "text/plain": [
       "(353, 10)"
      ]
     },
     "execution_count": 10,
     "metadata": {},
     "output_type": "execute_result"
    }
   ],
   "source": [
    "x_train.shape"
   ]
  },
  {
   "cell_type": "code",
   "execution_count": 11,
   "id": "a4ad4619",
   "metadata": {},
   "outputs": [],
   "source": [
    "from sklearn.linear_model import SGDRegressor"
   ]
  },
  {
   "cell_type": "code",
   "execution_count": 12,
   "id": "f613e85b",
   "metadata": {},
   "outputs": [
    {
     "name": "stdout",
     "output_type": "stream",
     "text": [
      "r2_score :  0.44487099619537496\n",
      "[  45.69513191 -146.96059562  413.84525463  270.79479548  -35.37570698\n",
      "  -73.00649559 -184.00633815  134.80636215  312.63102054  109.79103831]\n",
      "[145.4819848]\n"
     ]
    }
   ],
   "source": [
    "reg=SGDRegressor(penalty='l2',max_iter=500,eta0=0.1,learning_rate='constant',alpha=0.001)\n",
    "reg.fit(x_train,y_train)\n",
    "y_pred=reg.predict(x_test)\n",
    "print(\"r2_score : \",r2_score(y_test,y_pred))\n",
    "print(reg.coef_)\n",
    "print(reg.intercept_)"
   ]
  },
  {
   "cell_type": "code",
   "execution_count": null,
   "id": "2049e7d5",
   "metadata": {},
   "outputs": [
    {
     "name": "stdout",
     "output_type": "stream",
     "text": [
      "0.44487099619537496\n",
      "[  38.48350613 -241.35179438  543.83518034  346.78283195 -827.70199295\n",
      "  437.17375035  116.94975152  260.75926638  696.1292253    49.74344847]\n",
      "151.34198055764148\n"
     ]
    }
   ],
   "source": [
    "from sklearn.linear_model import Ridge\n",
    "R=Ridge(alpha=0.001,max_iter=500,solver='sparse_cg') # svd , cholesky , lsqr these are for ordinary least square (OLS) \n",
    "                                                      # sparse_cg , sag , saga these are for gradient descent   and auto will automatically choose the best\n",
    "R.fit(x_train,y_train)\n",
    "y_pred_1=R.predict(x_test)\n",
    "print(r2_score(y_test,y_pred))\n",
    "print(R.coef_)\n",
    "print(R.intercept_)"
   ]
  },
  {
   "cell_type": "code",
   "execution_count": 31,
   "id": "911ca165",
   "metadata": {},
   "outputs": [],
   "source": [
    "class mera_ridge_gd:\n",
    "    def __init__(self,alpha,epochs,learning_rate):\n",
    "        self.alpha=alpha\n",
    "        self.epochs=epochs\n",
    "        self.learning_rate=learning_rate\n",
    "        self.coef_=None\n",
    "        self.intercept_=None\n",
    "\n",
    "    def fit(self,x_train,y_train):\n",
    "        self.coef_=np.ones(x_train.shape[1])\n",
    "        self.intercept_=0\n",
    "        thetha=np.insert(self.coef_,0,self.intercept_)\n",
    "\n",
    "        x_train=np.insert(x_train,0,1,axis=1)\n",
    "\n",
    "        for i in range(self.epochs):\n",
    "            thetha_der=np.dot(x_train.T,x_train).dot(thetha) - np.dot(x_train.T,y_train) + self.alpha*thetha\n",
    "            thetha=thetha - self.learning_rate * thetha_der\n",
    "\n",
    "        self.intercept_=thetha[0]\n",
    "        self.coef_=thetha[1:]\n",
    "\n",
    "    def predict(self,x_test):\n",
    "        return np.dot(x_test,self.coef_) + self.intercept_"
   ]
  },
  {
   "cell_type": "code",
   "execution_count": 42,
   "id": "a8d6f90d",
   "metadata": {},
   "outputs": [
    {
     "name": "stdout",
     "output_type": "stream",
     "text": [
      "0.4592249376936407\n"
     ]
    }
   ],
   "source": [
    "mera=mera_ridge_gd(alpha=0.001,epochs=500,learning_rate=0.005)\n",
    "mera.fit(x_train,y_train)\n",
    "y_pred=mera.predict(x_test)\n",
    "mera.coef_,mera.intercept_\n",
    "print(r2_score(y_test,y_pred))\n",
    "\n"
   ]
  },
  {
   "cell_type": "code",
   "execution_count": null,
   "id": "5252e6e5",
   "metadata": {},
   "outputs": [],
   "source": []
  },
  {
   "cell_type": "code",
   "execution_count": null,
   "id": "52ef5bbc",
   "metadata": {},
   "outputs": [],
   "source": [
    "coef_=np.ones(x_train.shape[1])    # np.insert(array, position, value)\n",
    "intercept_=0\n",
    "thetha=np.insert(coef_,0,intercept_)"
   ]
  },
  {
   "cell_type": "code",
   "execution_count": 18,
   "id": "88e7d43a",
   "metadata": {},
   "outputs": [
    {
     "data": {
      "text/plain": [
       "array([0., 1., 1., 1., 1., 1., 1., 1., 1., 1., 1.])"
      ]
     },
     "execution_count": 18,
     "metadata": {},
     "output_type": "execute_result"
    }
   ],
   "source": [
    "thetha"
   ]
  },
  {
   "cell_type": "code",
   "execution_count": null,
   "id": "37e01a61",
   "metadata": {},
   "outputs": [],
   "source": []
  }
 ],
 "metadata": {
  "kernelspec": {
   "display_name": "base",
   "language": "python",
   "name": "python3"
  },
  "language_info": {
   "codemirror_mode": {
    "name": "ipython",
    "version": 3
   },
   "file_extension": ".py",
   "mimetype": "text/x-python",
   "name": "python",
   "nbconvert_exporter": "python",
   "pygments_lexer": "ipython3",
   "version": "3.13.5"
  }
 },
 "nbformat": 4,
 "nbformat_minor": 5
}
