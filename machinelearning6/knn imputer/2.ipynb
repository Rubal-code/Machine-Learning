{
 "cells": [
  {
   "cell_type": "markdown",
   "id": "c3612b73",
   "metadata": {},
   "source": [
    "# iterative imputer or MICE (multivariante imputation by chained equations)"
   ]
  },
  {
   "cell_type": "code",
   "execution_count": 2,
   "id": "0ddfdd49",
   "metadata": {},
   "outputs": [],
   "source": [
    "import numpy as np\n",
    "import pandas as pd\n",
    "from sklearn.experimental import enable_iterative_imputer\n",
    "from sklearn.impute import IterativeImputer\n",
    "from sklearn.linear_model import BayesianRidge"
   ]
  },
  {
   "cell_type": "code",
   "execution_count": 3,
   "id": "70963192",
   "metadata": {},
   "outputs": [],
   "source": [
    "data = {\n",
    "    \"age\": [25, np.nan, 30, 35, np.nan, 40],\n",
    "    \"salary\": [50000, 60000, np.nan, 80000, 90000, np.nan],\n",
    "    \"experience\": [1, 3, 5, np.nan, 7, 9]\n",
    "}"
   ]
  },
  {
   "cell_type": "code",
   "execution_count": 4,
   "id": "f4bfd6ac",
   "metadata": {},
   "outputs": [],
   "source": [
    "df=pd.DataFrame(data)"
   ]
  },
  {
   "cell_type": "code",
   "execution_count": 8,
   "id": "090f83f1",
   "metadata": {},
   "outputs": [
    {
     "name": "stdout",
     "output_type": "stream",
     "text": [
      "before imputation \n",
      "    age   salary  experience\n",
      "0  25.0  50000.0         1.0\n",
      "1   NaN  60000.0         3.0\n",
      "2  30.0      NaN         5.0\n",
      "3  35.0  80000.0         NaN\n",
      "4   NaN  90000.0         7.0\n",
      "5  40.0      NaN         9.0\n"
     ]
    }
   ],
   "source": [
    "print(f\"before imputation \\n{df}\")"
   ]
  },
  {
   "cell_type": "code",
   "execution_count": 10,
   "id": "87a73301",
   "metadata": {},
   "outputs": [],
   "source": [
    "imputer=IterativeImputer(estimator=BayesianRidge(),max_iter=10,random_state=42)"
   ]
  },
  {
   "cell_type": "code",
   "execution_count": 11,
   "id": "2a0cface",
   "metadata": {},
   "outputs": [],
   "source": [
    "imputed_data=imputer.fit_transform(df)"
   ]
  },
  {
   "cell_type": "code",
   "execution_count": 13,
   "id": "2ecdb3c4",
   "metadata": {},
   "outputs": [
    {
     "data": {
      "text/html": [
       "<div>\n",
       "<style scoped>\n",
       "    .dataframe tbody tr th:only-of-type {\n",
       "        vertical-align: middle;\n",
       "    }\n",
       "\n",
       "    .dataframe tbody tr th {\n",
       "        vertical-align: top;\n",
       "    }\n",
       "\n",
       "    .dataframe thead th {\n",
       "        text-align: right;\n",
       "    }\n",
       "</style>\n",
       "<table border=\"1\" class=\"dataframe\">\n",
       "  <thead>\n",
       "    <tr style=\"text-align: right;\">\n",
       "      <th></th>\n",
       "      <th>age</th>\n",
       "      <th>salary</th>\n",
       "      <th>experience</th>\n",
       "    </tr>\n",
       "  </thead>\n",
       "  <tbody>\n",
       "    <tr>\n",
       "      <th>0</th>\n",
       "      <td>25.000000</td>\n",
       "      <td>50000.000000</td>\n",
       "      <td>1.000000</td>\n",
       "    </tr>\n",
       "    <tr>\n",
       "      <th>1</th>\n",
       "      <td>28.343004</td>\n",
       "      <td>60000.000000</td>\n",
       "      <td>3.000000</td>\n",
       "    </tr>\n",
       "    <tr>\n",
       "      <th>2</th>\n",
       "      <td>30.000000</td>\n",
       "      <td>64932.614930</td>\n",
       "      <td>5.000000</td>\n",
       "    </tr>\n",
       "    <tr>\n",
       "      <th>3</th>\n",
       "      <td>35.000000</td>\n",
       "      <td>80000.000000</td>\n",
       "      <td>6.252851</td>\n",
       "    </tr>\n",
       "    <tr>\n",
       "      <th>4</th>\n",
       "      <td>38.322211</td>\n",
       "      <td>90000.000000</td>\n",
       "      <td>7.000000</td>\n",
       "    </tr>\n",
       "    <tr>\n",
       "      <th>5</th>\n",
       "      <td>40.000000</td>\n",
       "      <td>94986.837247</td>\n",
       "      <td>9.000000</td>\n",
       "    </tr>\n",
       "  </tbody>\n",
       "</table>\n",
       "</div>"
      ],
      "text/plain": [
       "         age        salary  experience\n",
       "0  25.000000  50000.000000    1.000000\n",
       "1  28.343004  60000.000000    3.000000\n",
       "2  30.000000  64932.614930    5.000000\n",
       "3  35.000000  80000.000000    6.252851\n",
       "4  38.322211  90000.000000    7.000000\n",
       "5  40.000000  94986.837247    9.000000"
      ]
     },
     "execution_count": 13,
     "metadata": {},
     "output_type": "execute_result"
    }
   ],
   "source": [
    "pd.DataFrame(imputed_data,columns=df.columns)"
   ]
  },
  {
   "cell_type": "code",
   "execution_count": null,
   "id": "ba4e92b8",
   "metadata": {},
   "outputs": [],
   "source": []
  }
 ],
 "metadata": {
  "kernelspec": {
   "display_name": "base",
   "language": "python",
   "name": "python3"
  },
  "language_info": {
   "codemirror_mode": {
    "name": "ipython",
    "version": 3
   },
   "file_extension": ".py",
   "mimetype": "text/x-python",
   "name": "python",
   "nbconvert_exporter": "python",
   "pygments_lexer": "ipython3",
   "version": "3.13.5"
  }
 },
 "nbformat": 4,
 "nbformat_minor": 5
}
